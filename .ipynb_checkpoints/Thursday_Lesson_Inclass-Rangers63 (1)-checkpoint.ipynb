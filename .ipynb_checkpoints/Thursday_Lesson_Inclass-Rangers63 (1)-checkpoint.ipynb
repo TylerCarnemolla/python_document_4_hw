{
 "cells": [
  {
   "cell_type": "markdown",
   "metadata": {},
   "source": [
    "# Object-Oriented-Programming (OOP)"
   ]
  },
  {
   "cell_type": "markdown",
   "metadata": {},
   "source": [
    "## Tasks Today:\n",
    "\n",
    "   \n",
    "\n",
    "1) <b>Creating a Class (Initializing/Declaring)</b> <br>\n",
    "2) <b>Using a Class (Instantiating)</b> <br>\n",
    " &nbsp;&nbsp;&nbsp;&nbsp; a) Creating One Instance <br>\n",
    " &nbsp;&nbsp;&nbsp;&nbsp; b) Creating Multiple Instances <br>\n",
    " &nbsp;&nbsp;&nbsp;&nbsp; c) In-Class Exercise #1 - Create a Class 'Car' and instantiate three different makes of cars <br>\n",
    "3) <b>The \\__init\\__() Method</b> <br>\n",
    " &nbsp;&nbsp;&nbsp;&nbsp; a) The 'self' Attribute <br>\n",
    "4) <b>Class Attributes</b> <br>\n",
    " &nbsp;&nbsp;&nbsp;&nbsp; a) Initializing Attributes <br>\n",
    " &nbsp;&nbsp;&nbsp;&nbsp; b) Setting an Attribute Outside of the \\__init\\__() Method <br>\n",
    " &nbsp;&nbsp;&nbsp;&nbsp; c) Setting Defaults for Attributes <br>\n",
    " &nbsp;&nbsp;&nbsp;&nbsp; d) Accessing Class Attributes <br>\n",
    " &nbsp;&nbsp;&nbsp;&nbsp; e) Changing Class Attributes <br>\n",
    " &nbsp;&nbsp;&nbsp;&nbsp; f) In-Class Exercise #2 - Add a color and wheels attribute to your 'Car' class <br>\n",
    "5) <b>Class Methods</b> <br>\n",
    " &nbsp;&nbsp;&nbsp;&nbsp; a) Creating <br>\n",
    " &nbsp;&nbsp;&nbsp;&nbsp; b) Calling <br>\n",
    " &nbsp;&nbsp;&nbsp;&nbsp; c) Modifying an Attribute's Value Through a Method <br>\n",
    " &nbsp;&nbsp;&nbsp;&nbsp; d) Incrementing an Attribute's Value Through a Method <br>\n",
    " &nbsp;&nbsp;&nbsp;&nbsp; e) In-Class Exercise #3 - Add a method that prints the cars color and wheel number, then call them <br>\n",
    "6) <b>Inheritance</b> <br>\n",
    " &nbsp;&nbsp;&nbsp;&nbsp; a) Syntax for Inheriting from a Parent Class <br>\n",
    " &nbsp;&nbsp;&nbsp;&nbsp; b) The \\__init\\__() Method for a Child Class (super()) <br>\n",
    " &nbsp;&nbsp;&nbsp;&nbsp; c) Defining Attributes and Methods for the Child Class <br>\n",
    " &nbsp;&nbsp;&nbsp;&nbsp; d) Method Overriding <br>\n",
    " &nbsp;&nbsp;&nbsp;&nbsp; e) In-Class Exercise #4 - Create a class 'Ford' that inherits from 'Car' class and initialize it as a Blue Ford Explorer with 4 wheels using the super() method <br>\n",
    "7) <b>Classes as Attributes</b> <br>\n",
    "8) <b>Exercises</b> <br>\n",
    " &nbsp;&nbsp;&nbsp;&nbsp; a) Exercise #1 - Turn the shopping cart program from yesterday into an object-oriented program <br>"
   ]
  },
  {
   "cell_type": "markdown",
   "metadata": {},
   "source": [
    "## Creating a Class (Initializing/Declaring)\n",
    "<p>When creating a class, function, or even a variable you are initializing that object. Initializing and Declaring occur at the same time in Python, whereas in lower level languages you have to declare an object before initializing it. This is the first step in the process of using a class.</p>"
   ]
  },
  {
   "cell_type": "code",
   "execution_count": 4,
   "metadata": {},
   "outputs": [],
   "source": [
    "class Car():\n",
    "    wheels = 4\n",
    "    color = 'blue'\n",
    "    muffler=\"dual\"\n",
    "    breaks=\"massive\"\n",
    "    engine=\"v8 or v10\""
   ]
  },
  {
   "cell_type": "markdown",
   "metadata": {},
   "source": [
    "## Using a Class (Instantiating)\n",
    "<p>The process of creating a class is called <i>Instantiating</i>. Each time you create a variable of that type of class, it is referred to as an <i>Instance</i> of that class. This is the second step in the process of using a class.</p>"
   ]
  },
  {
   "cell_type": "markdown",
   "metadata": {},
   "source": [
    "##### Creating One Instance"
   ]
  },
  {
   "cell_type": "code",
   "execution_count": 8,
   "metadata": {},
   "outputs": [
    {
     "name": "stdout",
     "output_type": "stream",
     "text": [
      "v8 or v10\n",
      "dual\n"
     ]
    }
   ],
   "source": [
    "ford = Car()\n",
    "print(ford.engine)\n",
    "print(ford.muffler)"
   ]
  },
  {
   "cell_type": "markdown",
   "metadata": {},
   "source": [
    "##### Creating Multiple Instances"
   ]
  },
  {
   "cell_type": "code",
   "execution_count": 10,
   "metadata": {},
   "outputs": [
    {
     "name": "stdout",
     "output_type": "stream",
     "text": [
      "v8 or v10\n"
     ]
    }
   ],
   "source": [
    "dodge=Car()\n",
    "audi=Car()\n",
    "bmw=Car()\n",
    "\n",
    "print(bmw.engine)"
   ]
  },
  {
   "cell_type": "markdown",
   "metadata": {},
   "source": [
    "##### In-Class Exercise #1 - Create a Class 'Car' and Instantiate three different makes of cars"
   ]
  },
  {
   "cell_type": "code",
   "execution_count": null,
   "metadata": {},
   "outputs": [],
   "source": [
    "class Car():\n",
    "    doors=2\n",
    "    color=\"matte blue\"\n",
    "    wheels=\"aluminum\"\n",
    "    type=\"luxury sport\"\n",
    "    \n",
    "porche=Car()\n",
    "audi=Car()\n",
    "lamborgini=Car()\n",
    "    \n"
   ]
  },
  {
   "cell_type": "markdown",
   "metadata": {},
   "source": [
    "## The \\__init\\__() Method <br>\n",
    "<p>This method is used in almost every created class, and called only once upon the creation of the class instance. This method will initialize all variables needed for the object.</p>"
   ]
  },
  {
   "cell_type": "code",
   "execution_count": 35,
   "metadata": {},
   "outputs": [
    {
     "name": "stdout",
     "output_type": "stream",
     "text": [
      "small and floppy\n"
     ]
    }
   ],
   "source": [
    "class Dogs():\n",
    "    paws=4\n",
    "    speak=\"bark\"\n",
    "    protection=\"fur\"\n",
    "    \n",
    "    def __init__(self,tail,snout,ears):\n",
    "        self.tail=tail\n",
    "        self.snout=snout #by giving a generic name without quotes, you are keeping this attribute change able\n",
    "        self.ears=ears #if I put \"ears\" this would make the class default to dog > ears ==ears\n",
    "lab=Dogs(\"long\",\"long\",\"floppy\")\n",
    "bulldog=Dogs(\"nubby\",\"none\",\"small and floppy\")\n",
    "print(bulldog.ears)\n"
   ]
  },
  {
   "cell_type": "markdown",
   "metadata": {},
   "source": [
    "##### The 'self' Attribute <br>\n",
    "<p>This attribute is required to keep track of specific instance's attributes. Without the self attribute, the program would not know how to reference or keep track of an instance's attributes.</p>"
   ]
  },
  {
   "cell_type": "code",
   "execution_count": null,
   "metadata": {},
   "outputs": [],
   "source": [
    "# see above"
   ]
  },
  {
   "cell_type": "markdown",
   "metadata": {},
   "source": [
    "## Class Attributes <br>\n",
    "<p>While variables are inside of a class, they are referred to as attributes and not variables. When someone says 'attribute' you know they're speaking about a class. Attributes can be initialized through the init method, or outside of it.</p>"
   ]
  },
  {
   "cell_type": "markdown",
   "metadata": {},
   "source": [
    "##### Initializing Attributes"
   ]
  },
  {
   "cell_type": "code",
   "execution_count": 49,
   "metadata": {},
   "outputs": [
    {
     "name": "stdout",
     "output_type": "stream",
     "text": [
      "2000sqf\n"
     ]
    }
   ],
   "source": [
    "class Home():\n",
    "    walls=\"enclosed\"\n",
    "    roof=\"weatherproof\"\n",
    "    safety=\"secure\" #constants\n",
    "    \n",
    "    def __init__(self,size,stories):\n",
    "        self.size=size\n",
    "        self.stories=stories #attributes\n",
    "    \n",
    "hut= Home(\"2000sqf\",\"single\")\n",
    "print(hut.size)"
   ]
  },
  {
   "cell_type": "markdown",
   "metadata": {},
   "source": [
    "##### Accessing Class Attributes"
   ]
  },
  {
   "cell_type": "code",
   "execution_count": 52,
   "metadata": {
    "scrolled": true
   },
   "outputs": [
    {
     "data": {
      "text/plain": [
       "'weatherproof'"
      ]
     },
     "execution_count": 52,
     "metadata": {},
     "output_type": "execute_result"
    }
   ],
   "source": [
    "# See Above\n",
    "hut.walls\n",
    "hut.roof\n"
   ]
  },
  {
   "cell_type": "markdown",
   "metadata": {},
   "source": [
    "##### Setting Defaults for Attributes"
   ]
  },
  {
   "cell_type": "code",
   "execution_count": 55,
   "metadata": {},
   "outputs": [
    {
     "data": {
      "text/plain": [
       "'steel'"
      ]
     },
     "execution_count": 55,
     "metadata": {},
     "output_type": "execute_result"
    }
   ],
   "source": [
    "class Offroader():\n",
    "    suspension=\"tall\"\n",
    "    wheels=\"wide\"\n",
    "    tires=\"large\"\n",
    "    \n",
    "    def __init__(self,color,):#<<<<this determines what input is manditory\n",
    "        self.color=color\n",
    "        self.bumper=\"steel\"\n",
    "\n",
    "jeep=Offroader(\"silver\")\n",
    "\n",
    "jeep.bumper\n",
    "    \n",
    "    "
   ]
  },
  {
   "cell_type": "markdown",
   "metadata": {},
   "source": [
    "##### Changing Class Attributes <br>\n",
    "<p>Keep in mind there are global class attributes and then there are attributes only available to each class instance which won't effect other classes.</p>"
   ]
  },
  {
   "cell_type": "code",
   "execution_count": 2,
   "metadata": {},
   "outputs": [
    {
     "name": "stdout",
     "output_type": "stream",
     "text": [
      "sedan\n",
      "suv\n"
     ]
    }
   ],
   "source": [
    "class Car():\n",
    "    drive=\"fwd\"\n",
    "    cylenders=\"4\"\n",
    "    \n",
    "    \n",
    "    def __init__(self,kind,brand,doors,seats):\n",
    "        self.kind=kind\n",
    "        self.brand=brand\n",
    "        self.doors=doors\n",
    "        self.seats=seats\n",
    "        \n",
    "volvo=Car(\"sedan\",\"volvo\",4,5)\n",
    "\n",
    "print(volvo.kind)\n",
    "\n",
    "volvo.kind=\"suv\"\n",
    "\n",
    "print(volvo.kind)"
   ]
  },
  {
   "cell_type": "code",
   "execution_count": null,
   "metadata": {},
   "outputs": [],
   "source": []
  },
  {
   "cell_type": "markdown",
   "metadata": {},
   "source": [
    "##### In-Class Exercise #2 - Add a doors and seats attribute to your 'Car' class then print out two different instances with different doors and seats"
   ]
  },
  {
   "cell_type": "code",
   "execution_count": 7,
   "metadata": {},
   "outputs": [
    {
     "name": "stdout",
     "output_type": "stream",
     "text": [
      "the volvo has 5 seats\n",
      "the volvo has 4 doors\n",
      "\n",
      "\n",
      "the jag has 2 seats\n",
      "the jag has 2 doors\n"
     ]
    }
   ],
   "source": [
    "jaguar=Car\n",
    "jaguar.doors=2\n",
    "jaguar.seats=2\n",
    "\n",
    "print(f\"the volvo has {volvo.seats} seats\")\n",
    "print(f\"the volvo has {volvo.doors} doors\")\n",
    "print('\\n')\n",
    "print(f\"the jag has {jaguar.seats} seats\")\n",
    "print(f\"the jag has {jaguar.doors} doors\")"
   ]
  },
  {
   "cell_type": "markdown",
   "metadata": {},
   "source": [
    "## Class Methods <br>\n",
    "<p>While inside of a class, functions are referred to as 'methods'. If you hear someone mention methods, they're speaking about classes. Methods are essentially functions, but only callable on the instances of a class.</p>"
   ]
  },
  {
   "cell_type": "markdown",
   "metadata": {},
   "source": [
    "##### Creating"
   ]
  },
  {
   "cell_type": "code",
   "execution_count": 97,
   "metadata": {},
   "outputs": [],
   "source": [
    "class ShoppingBag():\n",
    "    \"\"\"\n",
    "    The ShoppingBag class will have handles, capacity, and items to place inside.\n",
    "    \n",
    "    Attributes for the class:\n",
    "    -handles:expected to be an integer\n",
    "    -capacity: expected to be a string or int\n",
    "    -items:expected to be a list\n",
    "    \n",
    "    \"\"\"\n",
    "    def __init__ (self,handles,capacity,items):\n",
    "        self.handles=handles\n",
    "        self.capacity=capacity\n",
    "        self.items=items\n",
    "        \n",
    "        #write a method that shows what is in our ShoppingBag/ items in list\n",
    "        \n",
    "    def showStuff(self):\n",
    "        if len(self.items) != 0:\n",
    "            print(\"there are things in your bag!\")\n",
    "            for i in self.items:\n",
    "                print(i)\n",
    "        else:\n",
    "            print(\"sorry there are no items in your bag.\")\n",
    "        \n",
    "        \n",
    "        #write a method that shows the capacity of the shopping bag\n",
    "        \n",
    "    def showCapacity(self):\n",
    "        print(f\"Your capacity is {self.capacity}.\")\n",
    "            \n",
    "        #write a method to add items to items list for the shopping bag\n",
    "        \n",
    "    def addcart(self):\n",
    "        products=input(\"what would you like to buy?\")\n",
    "        self.items.append(products)\n",
    "       \n",
    "        #change the capacity of shoppingbag\n",
    "        \n",
    "    def changeCapacity(self,capacity):\n",
    "        self.capacity=capacity\n",
    "            \n",
    "        #increase the capacity of the shopping bag by a default amout we set to 10\n",
    "        \n",
    "    def addCapacity(self, changed_capacity=10):\n",
    "        if self.capacity ==isinstance(self.capacity,str):\n",
    "            print(\"you have reached your limit.\")\n",
    "        else:\n",
    "            self.capacity += changed_capacity\n",
    "        \n",
    "        \n",
    "        "
   ]
  },
  {
   "cell_type": "markdown",
   "metadata": {},
   "source": [
    "##### Calling"
   ]
  },
  {
   "cell_type": "code",
   "execution_count": 165,
   "metadata": {},
   "outputs": [
    {
     "ename": "KeyboardInterrupt",
     "evalue": "Interrupted by user",
     "output_type": "error",
     "traceback": [
      "\u001b[1;31m---------------------------------------------------------------------------\u001b[0m",
      "\u001b[1;31mKeyboardInterrupt\u001b[0m                         Traceback (most recent call last)",
      "Cell \u001b[1;32mIn[165], line 20\u001b[0m\n\u001b[0;32m     17\u001b[0m         \u001b[38;5;28;01melse\u001b[39;00m:\n\u001b[0;32m     18\u001b[0m             \u001b[38;5;28mprint\u001b[39m(\u001b[38;5;124m\"\u001b[39m\u001b[38;5;124mtry another command.\u001b[39m\u001b[38;5;124m\"\u001b[39m)\n\u001b[1;32m---> 20\u001b[0m run()\n",
      "Cell \u001b[1;32mIn[165], line 7\u001b[0m, in \u001b[0;36mrun\u001b[1;34m()\u001b[0m\n\u001b[0;32m      5\u001b[0m \u001b[38;5;28;01mdef\u001b[39;00m \u001b[38;5;21mrun\u001b[39m():\n\u001b[0;32m      6\u001b[0m     \u001b[38;5;28;01mwhile\u001b[39;00m \u001b[38;5;28;01mTrue\u001b[39;00m:\n\u001b[1;32m----> 7\u001b[0m         response\u001b[38;5;241m=\u001b[39m\u001b[38;5;28minput\u001b[39m(\u001b[38;5;124m\"\u001b[39m\u001b[38;5;124mwhat would you like to do? show/add/quit your shopping bag.\u001b[39m\u001b[38;5;124m\"\u001b[39m)\n\u001b[0;32m      9\u001b[0m         \u001b[38;5;28;01mif\u001b[39;00m response\u001b[38;5;241m.\u001b[39mlower()\u001b[38;5;241m==\u001b[39m\u001b[38;5;124m\"\u001b[39m\u001b[38;5;124mquit\u001b[39m\u001b[38;5;124m\"\u001b[39m:\n\u001b[0;32m     10\u001b[0m             shop\u001b[38;5;241m.\u001b[39mshowList()\n",
      "File \u001b[1;32mC:\\anaconda\\Lib\\site-packages\\ipykernel\\kernelbase.py:1175\u001b[0m, in \u001b[0;36mKernel.raw_input\u001b[1;34m(self, prompt)\u001b[0m\n\u001b[0;32m   1171\u001b[0m \u001b[38;5;28;01mif\u001b[39;00m \u001b[38;5;129;01mnot\u001b[39;00m \u001b[38;5;28mself\u001b[39m\u001b[38;5;241m.\u001b[39m_allow_stdin:\n\u001b[0;32m   1172\u001b[0m     \u001b[38;5;28;01mraise\u001b[39;00m StdinNotImplementedError(\n\u001b[0;32m   1173\u001b[0m         \u001b[38;5;124m\"\u001b[39m\u001b[38;5;124mraw_input was called, but this frontend does not support input requests.\u001b[39m\u001b[38;5;124m\"\u001b[39m\n\u001b[0;32m   1174\u001b[0m     )\n\u001b[1;32m-> 1175\u001b[0m \u001b[38;5;28;01mreturn\u001b[39;00m \u001b[38;5;28mself\u001b[39m\u001b[38;5;241m.\u001b[39m_input_request(\n\u001b[0;32m   1176\u001b[0m     \u001b[38;5;28mstr\u001b[39m(prompt),\n\u001b[0;32m   1177\u001b[0m     \u001b[38;5;28mself\u001b[39m\u001b[38;5;241m.\u001b[39m_parent_ident[\u001b[38;5;124m\"\u001b[39m\u001b[38;5;124mshell\u001b[39m\u001b[38;5;124m\"\u001b[39m],\n\u001b[0;32m   1178\u001b[0m     \u001b[38;5;28mself\u001b[39m\u001b[38;5;241m.\u001b[39mget_parent(\u001b[38;5;124m\"\u001b[39m\u001b[38;5;124mshell\u001b[39m\u001b[38;5;124m\"\u001b[39m),\n\u001b[0;32m   1179\u001b[0m     password\u001b[38;5;241m=\u001b[39m\u001b[38;5;28;01mFalse\u001b[39;00m,\n\u001b[0;32m   1180\u001b[0m )\n",
      "File \u001b[1;32mC:\\anaconda\\Lib\\site-packages\\ipykernel\\kernelbase.py:1217\u001b[0m, in \u001b[0;36mKernel._input_request\u001b[1;34m(self, prompt, ident, parent, password)\u001b[0m\n\u001b[0;32m   1214\u001b[0m             \u001b[38;5;28;01mbreak\u001b[39;00m\n\u001b[0;32m   1215\u001b[0m \u001b[38;5;28;01mexcept\u001b[39;00m \u001b[38;5;167;01mKeyboardInterrupt\u001b[39;00m:\n\u001b[0;32m   1216\u001b[0m     \u001b[38;5;66;03m# re-raise KeyboardInterrupt, to truncate traceback\u001b[39;00m\n\u001b[1;32m-> 1217\u001b[0m     \u001b[38;5;28;01mraise\u001b[39;00m \u001b[38;5;167;01mKeyboardInterrupt\u001b[39;00m(\u001b[38;5;124m\"\u001b[39m\u001b[38;5;124mInterrupted by user\u001b[39m\u001b[38;5;124m\"\u001b[39m) \u001b[38;5;28;01mfrom\u001b[39;00m \u001b[38;5;28;01mNone\u001b[39;00m\n\u001b[0;32m   1218\u001b[0m \u001b[38;5;28;01mexcept\u001b[39;00m \u001b[38;5;167;01mException\u001b[39;00m:\n\u001b[0;32m   1219\u001b[0m     \u001b[38;5;28mself\u001b[39m\u001b[38;5;241m.\u001b[39mlog\u001b[38;5;241m.\u001b[39mwarning(\u001b[38;5;124m\"\u001b[39m\u001b[38;5;124mInvalid Message:\u001b[39m\u001b[38;5;124m\"\u001b[39m, exc_info\u001b[38;5;241m=\u001b[39m\u001b[38;5;28;01mTrue\u001b[39;00m)\n",
      "\u001b[1;31mKeyboardInterrupt\u001b[0m: Interrupted by user"
     ]
    }
   ],
   "source": [
    "# See Above\n",
    "shop=ShoppingBag(2,10,[])\n",
    "#create a function t0 run the ShoppingBAg methods on our \"shop\" instance.\n",
    "\n",
    "def run():\n",
    "    while True:\n",
    "        response=input(\"what would you like to do? show/add/quit your shopping bag.\")\n",
    "        \n",
    "        if response.lower()==\"quit\":\n",
    "            shop.showList()\n",
    "            print(\"thank you for shopping!\")\n",
    "        elif response.lower()== \"add\":\n",
    "            shop.addcart()\n",
    "        elif response.lower()==\"show\":\n",
    "            shop.showStuff()\n",
    "        else:\n",
    "            print(\"try another command.\")\n",
    "\n",
    "run()\n"
   ]
  },
  {
   "cell_type": "markdown",
   "metadata": {},
   "source": [
    "##### Modifying an Attribute's Value Through a Method"
   ]
  },
  {
   "cell_type": "code",
   "execution_count": 100,
   "metadata": {},
   "outputs": [
    {
     "name": "stdout",
     "output_type": "stream",
     "text": [
      "Your capacity is 10.\n",
      "and the new capacity is\n",
      "Your capacity is 90.\n"
     ]
    }
   ],
   "source": [
    "shop.showCapacity()\n",
    "print(\"and the new capacity is\")\n",
    "\n",
    "shop.changeCapacity(90)\n",
    "shop.showCapacity()"
   ]
  },
  {
   "cell_type": "markdown",
   "metadata": {},
   "source": [
    "##### Incrementing an Attribute's Value Through a Method"
   ]
  },
  {
   "cell_type": "code",
   "execution_count": 112,
   "metadata": {},
   "outputs": [
    {
     "name": "stdout",
     "output_type": "stream",
     "text": [
      "Your capacity is 50.\n",
      "now after the change\n",
      "Your capacity is 60.\n"
     ]
    }
   ],
   "source": [
    "shop.changeCapacity(50)\n",
    "shop.showCapacity()\n",
    "print(\"now after the change\")\n",
    "shop.addCapacity()\n",
    "shop.showCapacity()"
   ]
  },
  {
   "cell_type": "markdown",
   "metadata": {},
   "source": [
    "##### In-Class Exercise #3 - Add a method that takes in three parameters of year, doors and seats and prints out a formatted print statement with make, model, year, seats, and doors"
   ]
  },
  {
   "cell_type": "code",
   "execution_count": 129,
   "metadata": {},
   "outputs": [
    {
     "name": "stdout",
     "output_type": "stream",
     "text": [
      "This car is a 2018 jeep wrangler and it has 4 doors and 5 seats.\n"
     ]
    }
   ],
   "source": [
    "# Create class with 2 paramters inside of the __init__ which are make and model\n",
    "\n",
    "# Inside of the Car class create a method that has 4 parameter in total (self,year,door,seats)\n",
    "\n",
    "# Output: This car is from 2019 and is a Ford Expolorer and has 4 doors and 5 seats\n",
    "\n",
    "class jeep():\n",
    "    year=2018\n",
    "    doors=4\n",
    "    seats=5\n",
    "    \n",
    "    def __init__(self,make,model):\n",
    "        self.make=make\n",
    "        self.model=model\n",
    "    def jeepspecs(self):\n",
    "        print(f\"This car is a {self.year} {self.make} {self.model} and it has {self.doors} doors and {self.seats} seats.\")\n",
    "        \n",
    "wrangler=jeep(\"jeep\",\"wrangler\")\n",
    "wrangler.jeepspecs()"
   ]
  },
  {
   "cell_type": "markdown",
   "metadata": {},
   "source": [
    "## Inheritance <br>\n",
    "<p>You can create a child-parent relationship between two classes by using inheritance. What this allows you to do is have overriding methods, but also inherit traits from the parent class. Think of it as an actual parent and child, the child will inherit the parent's genes, as will the classes in OOP</p>"
   ]
  },
  {
   "cell_type": "markdown",
   "metadata": {},
   "source": [
    "##### Syntax for Inheriting from a Parent Class"
   ]
  },
  {
   "cell_type": "code",
   "execution_count": 137,
   "metadata": {},
   "outputs": [
    {
     "name": "stdout",
     "output_type": "stream",
     "text": [
      "make some generic sound\n"
     ]
    },
    {
     "data": {
      "text/plain": [
       "15"
      ]
     },
     "execution_count": 137,
     "metadata": {},
     "output_type": "execute_result"
    }
   ],
   "source": [
    "class Animal():\n",
    "    accelerations=9.8\n",
    "    \n",
    "    def __init__(self, name, species, legs=4):\n",
    "        self.name=name\n",
    "        self.species=species\n",
    "        self.legs=legs\n",
    "        \n",
    "        #make a generic parent method. this does no override anything.\n",
    "        \n",
    "    def makeSound(self):\n",
    "        print('make some generic sound')\n",
    "#now we make a child class.... dog\n",
    "\n",
    "class Dog(Animal):\n",
    "    speed=15\n",
    "    \n",
    "    def printInfo(self):\n",
    "        print(f\"the dog has {self.speed}mph in speed and {self.acceleration}\")\n",
    "        \n",
    "# creation of our grandchild class \n",
    "\n",
    "class Mutt(Dog):\n",
    "    color=\"Tan\"\n",
    "    #override the Animal class - using the dog class to everwrite the __init__ from animal\n",
    "    def __init__(self, name, species, eye_color, legs=4):\n",
    "        Dog.__init__(self,name,species,legs)\n",
    "        self.eye_color=eye_color\n",
    "        \n",
    "    #overwrite the makeSound method (which is coming from animal)\n",
    "    def makeSound(self):\n",
    "        noise = \"bark\"\n",
    "        return noise\n",
    "\n"
   ]
  },
  {
   "cell_type": "markdown",
   "metadata": {},
   "source": [
    "##### The \\__init\\__() Method for a Child Class - super()"
   ]
  },
  {
   "cell_type": "code",
   "execution_count": 208,
   "metadata": {
    "scrolled": true
   },
   "outputs": [
    {
     "data": {
      "text/plain": [
       "'k9'"
      ]
     },
     "execution_count": 208,
     "metadata": {},
     "output_type": "execute_result"
    }
   ],
   "source": [
    "class Puppy(Dog):\n",
    "    color=\"black and brown\"\n",
    "    \n",
    "    #we are going to make out own attributes instead of using the ones in Animal\n",
    "    def __init__(self,name , species, eye_color, legs=4):\n",
    "        super().__init__(name,species,legs)\n",
    "        self.eye_color=eye_color\n",
    "        \n",
    "    #overwrite sound with our own\n",
    "    def makeSound(self):\n",
    "        noise=\"ruf ruf woof\"\n",
    "        return noise\n",
    "\n",
    "\n",
    "bailey=Mutt(\"bailey\",\"dog\",\"bright brown\")\n",
    "bailey.makeSound()\n",
    "bailey.speed\n",
    "\n",
    "kingsley=Puppy(\"doggy\",\"k9\",\"grey\",5)\n",
    "kingsley.makeSound()\n",
    "kingsley.legs\n",
    "\n",
    "kingsley.species\n"
   ]
  },
  {
   "cell_type": "markdown",
   "metadata": {},
   "source": [
    "##### Defining Attributes and Methods for the Child Class"
   ]
  },
  {
   "cell_type": "code",
   "execution_count": null,
   "metadata": {},
   "outputs": [],
   "source": [
    "# See Above"
   ]
  },
  {
   "cell_type": "markdown",
   "metadata": {},
   "source": [
    "##### Method Overriding"
   ]
  },
  {
   "cell_type": "code",
   "execution_count": null,
   "metadata": {},
   "outputs": [],
   "source": [
    "# See Above"
   ]
  },
  {
   "cell_type": "markdown",
   "metadata": {},
   "source": [
    "## Classes as Attributes <br>\n",
    "<p>Classes can also be used as attributes within another class. This is useful in situations where you need to keep variables locally stored, instead of globally stored.</p>"
   ]
  },
  {
   "cell_type": "code",
   "execution_count": 199,
   "metadata": {},
   "outputs": [
    {
     "data": {
      "text/plain": [
       "'almond'"
      ]
     },
     "execution_count": 199,
     "metadata": {},
     "output_type": "execute_result"
    }
   ],
   "source": [
    "class coffee():\n",
    "    def __init__(self,kind):\n",
    "        self.kind=kind\n",
    "class Latte():\n",
    "    def __init__(self,size,froth, milk, coffee):\n",
    "        self.size=size\n",
    "        self.froth=froth\n",
    "        self.milk=milk\n",
    "        self.coffee=coffee\n",
    "    \n",
    "    def printDrink(self):\n",
    "        return f\"I like a latte with {self.coffee.kind} and {self.milk} with {self.froth} froth, and I get a {self.size}.\"\n",
    "\n",
    "ingredient=coffee(\"espresso\")\n",
    "\n",
    "drinkOrder=Latte(\"medium\",\"thick\",\"almond\",ingredient)\n",
    "\n",
    "drinkOrder.printDrink()\n",
    "\n",
    "drinkOrder.milk"
   ]
  },
  {
   "cell_type": "markdown",
   "metadata": {},
   "source": [
    "# Exercises"
   ]
  },
  {
   "cell_type": "markdown",
   "metadata": {},
   "source": [
    "### Exercise 1 - Turn the shopping cart program from yesterday into an object-oriented program\n",
    "\n",
    "The comments in the cell below are there as a guide for thinking about the problem. However, if you feel a different way is best for you and your own thought process, please do what feels best for you by all means."
   ]
  },
  {
   "cell_type": "code",
   "execution_count": 226,
   "metadata": {},
   "outputs": [
    {
     "name": "stdout",
     "output_type": "stream",
     "text": [
      "Would you like to \"view\", \"quit\", or \"add\", to your shopping bag?add\n",
      "What would you like to add to your cart?a dog\n",
      "Would you like to \"view\", \"quit\", or \"add\", to your shopping bag?add\n",
      "What would you like to add to your cart?a duck\n",
      "Would you like to \"view\", \"quit\", or \"add\", to your shopping bag?view\n",
      "a dog\n",
      "a duck\n",
      "Would you like to \"view\", \"quit\", or \"add\", to your shopping bag?quit\n"
     ]
    }
   ],
   "source": [
    "# Create a class called cart that retains items and has methods to add, remove, and show\n",
    "\n",
    "class Cart():\n",
    "    def __init__(self, bag):\n",
    "           self.bag=bag\n",
    "    \n",
    "    def addItem(self):\n",
    "        addtocart=input(\"What would you like to add to your cart?\")\n",
    "        self.bag.append(addtocart)\n",
    "    \n",
    "    def showbag(self):\n",
    "        if len(self.bag)==0:\n",
    "            print(\"it looks like you dont have anything in your bag yet.\")\n",
    "        else:\n",
    "            for i in self.bag:\n",
    "                print(i)\n",
    "    \n",
    "getStuff=Cart([])\n",
    "\n",
    "def shop():\n",
    "    while True:\n",
    "    \n",
    "        direct=input('Would you like to \"view\", \"quit\", or \"add\", to your shopping bag?')\n",
    "    \n",
    "        if direct == \"view\":\n",
    "            getStuff.showbag()\n",
    "        \n",
    "        elif direct == \"add\":\n",
    "            getStuff.addItem()\n",
    "       \n",
    "        elif direct == \"quit\":\n",
    "            break\n",
    "        \n",
    "        else:\n",
    "            print(\"please review your answer.\")\n",
    "    \n",
    "shop()"
   ]
  },
  {
   "cell_type": "markdown",
   "metadata": {},
   "source": [
    "### Exercise 2 - Write a Python class which has two methods get_String and print_String. get_String accept a string from the user and print_String print the string in upper case"
   ]
  },
  {
   "cell_type": "code",
   "execution_count": 254,
   "metadata": {},
   "outputs": [
    {
     "name": "stdout",
     "output_type": "stream",
     "text": [
      "What would you like me to scream for you?bula bula bula\n",
      "BULA BULA BULA\n"
     ]
    }
   ],
   "source": [
    "class shout():\n",
    "    def __init__(self):\n",
    "        self.statement =\"\"\n",
    "    def get_string(self):\n",
    "        self.statement=input(\"What would you like me to scream for you?\")\n",
    "    def print_string(self):\n",
    "        print(self.statement.upper())\n",
    "        \n",
    "Shoutbox=shout()\n",
    "Shoutbox.get_string()\n",
    "Shoutbox.print_string()\n"
   ]
  },
  {
   "cell_type": "code",
   "execution_count": null,
   "metadata": {},
   "outputs": [],
   "source": []
  }
 ],
 "metadata": {
  "kernelspec": {
   "display_name": "Python 3 (ipykernel)",
   "language": "python",
   "name": "python3"
  },
  "language_info": {
   "codemirror_mode": {
    "name": "ipython",
    "version": 3
   },
   "file_extension": ".py",
   "mimetype": "text/x-python",
   "name": "python",
   "nbconvert_exporter": "python",
   "pygments_lexer": "ipython3",
   "version": "3.11.3"
  }
 },
 "nbformat": 4,
 "nbformat_minor": 2
}
